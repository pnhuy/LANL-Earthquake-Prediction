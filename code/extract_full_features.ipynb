{
 "cells": [
  {
   "cell_type": "code",
   "execution_count": null,
   "metadata": {},
   "outputs": [],
   "source": [
    "import numpy as np\n",
    "import pandas as pd\n",
    "import matplotlib.pyplot as plt\n",
    "import seaborn as sns\n",
    "import os\n",
    "import csv\n",
    "from tsfresh import extract_features\n",
    "%matplotlib inline\n",
    "\n",
    "WINDOW = 150000\n",
    "FILE = 'sample/sample_1m5/train_sample_1m5.csv'\n",
    "FILE_OUTPUT = 'ft_1m5.csv'"
   ]
  },
  {
   "cell_type": "code",
   "execution_count": null,
   "metadata": {},
   "outputs": [],
   "source": [
    "for chunk in pd.read_csv(FILE, chunksize=WINDOW, dtype={'acoustic_data': np.int8, 'time_to_failure': np.float32 }):\n",
    "    chunk['id'] = 'a'\n",
    "    ef = extract_features(chunk.drop(columns=['time_to_failure']), column_id='id', n_jobs=4)\n",
    "    file_exist = os.path.exists(FILE_OUTPUT)\n",
    "    with open(FILE_OUTPUT, 'a') as csvfile:\n",
    "        writer = csv.writer(csvfile)\n",
    "        if not file_exist:\n",
    "            writer.writerow(ef.columns)\n",
    "        writer.writerow(ef.iloc[0])\n",
    "    "
   ]
  }
 ],
 "metadata": {
  "kernelspec": {
   "display_name": "Python 3",
   "language": "python",
   "name": "python3"
  },
  "language_info": {
   "codemirror_mode": {
    "name": "ipython",
    "version": 3
   },
   "file_extension": ".py",
   "mimetype": "text/x-python",
   "name": "python",
   "nbconvert_exporter": "python",
   "pygments_lexer": "ipython3",
   "version": "3.6.8"
  }
 },
 "nbformat": 4,
 "nbformat_minor": 2
}

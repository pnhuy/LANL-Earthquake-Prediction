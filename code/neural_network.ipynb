{
 "cells": [
  {
   "cell_type": "code",
   "execution_count": 45,
   "metadata": {},
   "outputs": [],
   "source": [
    "import numpy as np\n",
    "import pandas as pd\n",
    "from sklearn.model_selection import GridSearchCV\n",
    "from keras.models import Sequential\n",
    "from keras.layers import Dense\n",
    "from keras.wrappers.scikit_learn import KerasRegressor"
   ]
  },
  {
   "cell_type": "code",
   "execution_count": 46,
   "metadata": {},
   "outputs": [],
   "source": [
    "df = pd.read_csv('../data/full_train_ft_2.csv')"
   ]
  },
  {
   "cell_type": "code",
   "execution_count": 47,
   "metadata": {},
   "outputs": [
    {
     "data": {
      "text/plain": [
       "(4195, 218)"
      ]
     },
     "execution_count": 47,
     "metadata": {},
     "output_type": "execute_result"
    }
   ],
   "source": [
    "df.shape"
   ]
  },
  {
   "cell_type": "code",
   "execution_count": 48,
   "metadata": {},
   "outputs": [
    {
     "name": "stdout",
     "output_type": "stream",
     "text": [
      "(4195, 213)\n"
     ]
    }
   ],
   "source": [
    "df = df.dropna(axis=1)\n",
    "print(df.shape)"
   ]
  },
  {
   "cell_type": "code",
   "execution_count": 49,
   "metadata": {},
   "outputs": [
    {
     "data": {
      "text/plain": [
       "(4195, 172)"
      ]
     },
     "execution_count": 49,
     "metadata": {},
     "output_type": "execute_result"
    }
   ],
   "source": [
    "df = df.drop(columns = df.columns[df.nunique() == 1])\n",
    "df.shape"
   ]
  },
  {
   "cell_type": "code",
   "execution_count": 50,
   "metadata": {},
   "outputs": [
    {
     "name": "stdout",
     "output_type": "stream",
     "text": [
      "(3356, 171)\n",
      "(3356,)\n",
      "(839, 171)\n",
      "(839,)\n"
     ]
    }
   ],
   "source": [
    "from sklearn.model_selection import train_test_split\n",
    "\n",
    "X_train, X_test, y_train, y_test = train_test_split(df.drop(columns=['time_to_failure']), df.time_to_failure, test_size=0.2)\n",
    "\n",
    "print(X_train.shape)\n",
    "print(y_train.shape)\n",
    "print(X_test.shape)\n",
    "print(y_test.shape)"
   ]
  },
  {
   "cell_type": "code",
   "execution_count": 51,
   "metadata": {},
   "outputs": [],
   "source": [
    "from sklearn.preprocessing import MinMaxScaler\n",
    "\n",
    "scaler = MinMaxScaler()\n",
    "\n",
    "scaler.fit(X_train)\n",
    "\n",
    "X_train_scaled = scaler.transform(X_train)\n",
    "X_test_scaled = scaler.transform(X_test)"
   ]
  },
  {
   "cell_type": "code",
   "execution_count": 85,
   "metadata": {},
   "outputs": [],
   "source": [
    "def baseline_model():\n",
    "    model = Sequential()\n",
    "    model.add(Dense(64,\n",
    "                    input_dim=X_train.shape[1],\n",
    "                    #kernel_initializer='normal',\n",
    "                    activation='relu'                   \n",
    "                   ))\n",
    "    model.add(Dense(1,\n",
    "                   #kernel_initializer='normal',\n",
    "                   activation='linear'\n",
    "                   ))\n",
    "    model.compile(loss='mse', optimizer='adam')\n",
    "    return model"
   ]
  },
  {
   "cell_type": "code",
   "execution_count": 111,
   "metadata": {},
   "outputs": [],
   "source": [
    "seed=2019\n",
    "np.random.seed(seed)\n",
    "model = KerasRegressor(build_fn=baseline_model, epochs=50, batch_size=64, verbose=1)"
   ]
  },
  {
   "cell_type": "code",
   "execution_count": 112,
   "metadata": {},
   "outputs": [
    {
     "name": "stdout",
     "output_type": "stream",
     "text": [
      "Train on 3356 samples, validate on 839 samples\n",
      "Epoch 1/50\n",
      "3356/3356 [==============================] - 1s 278us/step - loss: 18.6966 - val_loss: 12.8288\n",
      "Epoch 2/50\n",
      "3356/3356 [==============================] - 0s 69us/step - loss: 12.0608 - val_loss: 11.2766\n",
      "Epoch 3/50\n",
      "3356/3356 [==============================] - 0s 76us/step - loss: 10.5850 - val_loss: 9.8634\n",
      "Epoch 4/50\n",
      "3356/3356 [==============================] - 0s 64us/step - loss: 9.6256 - val_loss: 9.1892\n",
      "Epoch 5/50\n",
      "3356/3356 [==============================] - 0s 68us/step - loss: 9.0686 - val_loss: 8.9253\n",
      "Epoch 6/50\n",
      "3356/3356 [==============================] - 0s 74us/step - loss: 8.8007 - val_loss: 8.6355\n",
      "Epoch 7/50\n",
      "3356/3356 [==============================] - 0s 73us/step - loss: 8.5822 - val_loss: 8.8341\n",
      "Epoch 8/50\n",
      "3356/3356 [==============================] - 0s 66us/step - loss: 8.4628 - val_loss: 8.3880\n",
      "Epoch 9/50\n",
      "3356/3356 [==============================] - 0s 72us/step - loss: 8.4409 - val_loss: 8.3013\n",
      "Epoch 10/50\n",
      "3356/3356 [==============================] - 0s 64us/step - loss: 8.3230 - val_loss: 8.2208\n",
      "Epoch 11/50\n",
      "3356/3356 [==============================] - 0s 68us/step - loss: 8.2345 - val_loss: 8.1728\n",
      "Epoch 12/50\n",
      "3356/3356 [==============================] - 0s 74us/step - loss: 8.1108 - val_loss: 8.6322\n",
      "Epoch 13/50\n",
      "3356/3356 [==============================] - 0s 64us/step - loss: 8.0748 - val_loss: 8.1007\n",
      "Epoch 14/50\n",
      "3356/3356 [==============================] - 0s 73us/step - loss: 8.1074 - val_loss: 8.1157\n",
      "Epoch 15/50\n",
      "3356/3356 [==============================] - 0s 78us/step - loss: 7.9627 - val_loss: 8.0711\n",
      "Epoch 16/50\n",
      "3356/3356 [==============================] - 0s 81us/step - loss: 7.9814 - val_loss: 8.0132\n",
      "Epoch 17/50\n",
      "3356/3356 [==============================] - 0s 79us/step - loss: 8.0015 - val_loss: 7.9842\n",
      "Epoch 18/50\n",
      "3356/3356 [==============================] - 0s 66us/step - loss: 7.8747 - val_loss: 8.0099\n",
      "Epoch 19/50\n",
      "3356/3356 [==============================] - 0s 77us/step - loss: 7.8864 - val_loss: 7.9509\n",
      "Epoch 20/50\n",
      "3356/3356 [==============================] - 0s 79us/step - loss: 7.8773 - val_loss: 7.9443\n",
      "Epoch 21/50\n",
      "3356/3356 [==============================] - 0s 76us/step - loss: 7.9465 - val_loss: 7.9213\n",
      "Epoch 22/50\n",
      "3356/3356 [==============================] - 0s 81us/step - loss: 7.7570 - val_loss: 7.9376\n",
      "Epoch 23/50\n",
      "3356/3356 [==============================] - 0s 79us/step - loss: 7.8261 - val_loss: 7.8910\n",
      "Epoch 24/50\n",
      "3356/3356 [==============================] - 0s 72us/step - loss: 7.7229 - val_loss: 7.9889\n",
      "Epoch 25/50\n",
      "3356/3356 [==============================] - 0s 67us/step - loss: 7.7887 - val_loss: 7.9097\n",
      "Epoch 26/50\n",
      "3356/3356 [==============================] - 0s 66us/step - loss: 7.6932 - val_loss: 8.0118\n",
      "Epoch 27/50\n",
      "3356/3356 [==============================] - 0s 81us/step - loss: 7.7007 - val_loss: 8.0205\n",
      "Epoch 28/50\n",
      "3356/3356 [==============================] - 0s 75us/step - loss: 7.6935 - val_loss: 7.8410\n",
      "Epoch 29/50\n",
      "3356/3356 [==============================] - 0s 69us/step - loss: 7.6697 - val_loss: 7.8387\n",
      "Epoch 30/50\n",
      "3356/3356 [==============================] - 0s 78us/step - loss: 7.6672 - val_loss: 7.8510\n",
      "Epoch 31/50\n",
      "3356/3356 [==============================] - 0s 76us/step - loss: 7.6405 - val_loss: 7.9086\n",
      "Epoch 32/50\n",
      "3356/3356 [==============================] - 0s 67us/step - loss: 7.6230 - val_loss: 7.8043\n",
      "Epoch 33/50\n",
      "3356/3356 [==============================] - 0s 69us/step - loss: 7.6184 - val_loss: 7.9002\n",
      "Epoch 34/50\n",
      "3356/3356 [==============================] - 0s 75us/step - loss: 7.6067 - val_loss: 7.8131\n",
      "Epoch 35/50\n",
      "3356/3356 [==============================] - 0s 68us/step - loss: 7.5768 - val_loss: 7.9258\n",
      "Epoch 36/50\n",
      "3356/3356 [==============================] - 0s 81us/step - loss: 7.6368 - val_loss: 7.8909\n",
      "Epoch 37/50\n",
      "3356/3356 [==============================] - 0s 79us/step - loss: 7.5731 - val_loss: 7.9566\n",
      "Epoch 38/50\n",
      "3356/3356 [==============================] - 0s 76us/step - loss: 7.6690 - val_loss: 8.3389\n",
      "Epoch 39/50\n",
      "3356/3356 [==============================] - 0s 77us/step - loss: 7.6030 - val_loss: 7.7727\n",
      "Epoch 40/50\n",
      "3356/3356 [==============================] - 0s 76us/step - loss: 7.5731 - val_loss: 7.9812\n",
      "Epoch 41/50\n",
      "3356/3356 [==============================] - 0s 74us/step - loss: 7.5166 - val_loss: 7.7539\n",
      "Epoch 42/50\n",
      "3356/3356 [==============================] - 0s 67us/step - loss: 7.5241 - val_loss: 7.7434\n",
      "Epoch 43/50\n",
      "3356/3356 [==============================] - 0s 70us/step - loss: 7.5458 - val_loss: 7.7523\n",
      "Epoch 44/50\n",
      "3356/3356 [==============================] - 0s 82us/step - loss: 7.5337 - val_loss: 7.8157\n",
      "Epoch 45/50\n",
      "3356/3356 [==============================] - 0s 79us/step - loss: 7.4910 - val_loss: 7.7249\n",
      "Epoch 46/50\n",
      "3356/3356 [==============================] - 0s 82us/step - loss: 7.4764 - val_loss: 7.7536\n",
      "Epoch 47/50\n",
      "3356/3356 [==============================] - 0s 77us/step - loss: 7.6079 - val_loss: 7.7244\n",
      "Epoch 48/50\n",
      "3356/3356 [==============================] - 0s 70us/step - loss: 7.4891 - val_loss: 7.8593\n",
      "Epoch 49/50\n",
      "3356/3356 [==============================] - 0s 74us/step - loss: 7.4292 - val_loss: 7.7369\n",
      "Epoch 50/50\n",
      "3356/3356 [==============================] - 0s 83us/step - loss: 7.5498 - val_loss: 7.8250\n"
     ]
    },
    {
     "data": {
      "text/plain": [
       "<keras.callbacks.History at 0x7fca0bdfd208>"
      ]
     },
     "execution_count": 112,
     "metadata": {},
     "output_type": "execute_result"
    }
   ],
   "source": [
    "model.fit(X_train_scaled, y_train, validation_data=(X_test_scaled, y_test))"
   ]
  },
  {
   "cell_type": "markdown",
   "metadata": {},
   "source": [
    "# GRID SEARCH"
   ]
  },
  {
   "cell_type": "markdown",
   "metadata": {},
   "source": [
    "## Algorithms"
   ]
  },
  {
   "cell_type": "code",
   "execution_count": 144,
   "metadata": {},
   "outputs": [],
   "source": [
    "def create_model(optimizer='adam'):\n",
    "    model = Sequential()\n",
    "    model.add(Dense(64,\n",
    "                    input_dim=X_train.shape[1],\n",
    "                    #kernel_initializer='normal',\n",
    "                    activation='relu'                   \n",
    "                   ))\n",
    "    model.add(Dense(1,\n",
    "                   #kernel_initializer='normal',\n",
    "                   activation='linear'\n",
    "                   ))\n",
    "    model.compile(loss='mse', optimizer=optimizer)\n",
    "    return model"
   ]
  },
  {
   "cell_type": "code",
   "execution_count": 145,
   "metadata": {},
   "outputs": [],
   "source": [
    "model = KerasRegressor(build_fn=create_model, epochs=50, batch_size=64, verbose=1, shuffle=True)"
   ]
  },
  {
   "cell_type": "code",
   "execution_count": 146,
   "metadata": {},
   "outputs": [
    {
     "name": "stdout",
     "output_type": "stream",
     "text": [
      "Fitting 3 folds for each of 7 candidates, totalling 21 fits\n"
     ]
    },
    {
     "name": "stderr",
     "output_type": "stream",
     "text": [
      "[Parallel(n_jobs=-1)]: Using backend LokyBackend with 2 concurrent workers.\n",
      "[Parallel(n_jobs=-1)]: Done  21 out of  21 | elapsed:   42.5s finished\n"
     ]
    },
    {
     "name": "stdout",
     "output_type": "stream",
     "text": [
      "Epoch 1/50\n",
      "3356/3356 [==============================] - 1s 325us/step - loss: 16.4500\n",
      "Epoch 2/50\n",
      "3356/3356 [==============================] - 0s 63us/step - loss: 11.2647\n",
      "Epoch 3/50\n",
      "3356/3356 [==============================] - 0s 68us/step - loss: 9.7821\n",
      "Epoch 4/50\n",
      "3356/3356 [==============================] - 0s 64us/step - loss: 9.1398\n",
      "Epoch 5/50\n",
      "3356/3356 [==============================] - 0s 68us/step - loss: 8.6998\n",
      "Epoch 6/50\n",
      "3356/3356 [==============================] - 0s 61us/step - loss: 8.5479\n",
      "Epoch 7/50\n",
      "3356/3356 [==============================] - 0s 69us/step - loss: 8.3178\n",
      "Epoch 8/50\n",
      "3356/3356 [==============================] - 0s 69us/step - loss: 8.2160\n",
      "Epoch 9/50\n",
      "3356/3356 [==============================] - 0s 62us/step - loss: 8.0940\n",
      "Epoch 10/50\n",
      "3356/3356 [==============================] - 0s 68us/step - loss: 8.1279\n",
      "Epoch 11/50\n",
      "3356/3356 [==============================] - 0s 68us/step - loss: 7.9989\n",
      "Epoch 12/50\n",
      "3356/3356 [==============================] - 0s 60us/step - loss: 7.9408\n",
      "Epoch 13/50\n",
      "3356/3356 [==============================] - 0s 62us/step - loss: 7.8807\n",
      "Epoch 14/50\n",
      "3356/3356 [==============================] - 0s 65us/step - loss: 7.8440\n",
      "Epoch 15/50\n",
      "3356/3356 [==============================] - 0s 62us/step - loss: 7.7770\n",
      "Epoch 16/50\n",
      "3356/3356 [==============================] - 0s 61us/step - loss: 7.7427\n",
      "Epoch 17/50\n",
      "3356/3356 [==============================] - 0s 75us/step - loss: 7.7413\n",
      "Epoch 18/50\n",
      "3356/3356 [==============================] - 0s 62us/step - loss: 7.6945\n",
      "Epoch 19/50\n",
      "3356/3356 [==============================] - 0s 62us/step - loss: 7.6811\n",
      "Epoch 20/50\n",
      "3356/3356 [==============================] - 0s 69us/step - loss: 7.6565\n",
      "Epoch 21/50\n",
      "3356/3356 [==============================] - 0s 69us/step - loss: 7.6616\n",
      "Epoch 22/50\n",
      "3356/3356 [==============================] - 0s 63us/step - loss: 7.6268\n",
      "Epoch 23/50\n",
      "3356/3356 [==============================] - 0s 68us/step - loss: 7.6787\n",
      "Epoch 24/50\n",
      "3356/3356 [==============================] - 0s 80us/step - loss: 7.6975\n",
      "Epoch 25/50\n",
      "3356/3356 [==============================] - 0s 79us/step - loss: 7.6031\n",
      "Epoch 26/50\n",
      "3356/3356 [==============================] - 0s 77us/step - loss: 7.5416\n",
      "Epoch 27/50\n",
      "3356/3356 [==============================] - 0s 87us/step - loss: 7.5389\n",
      "Epoch 28/50\n",
      "3356/3356 [==============================] - 0s 70us/step - loss: 7.5394\n",
      "Epoch 29/50\n",
      "3356/3356 [==============================] - 0s 66us/step - loss: 7.5069\n",
      "Epoch 30/50\n",
      "3356/3356 [==============================] - 0s 61us/step - loss: 7.5420\n",
      "Epoch 31/50\n",
      "3356/3356 [==============================] - 0s 67us/step - loss: 7.5310\n",
      "Epoch 32/50\n",
      "3356/3356 [==============================] - 0s 65us/step - loss: 7.5601\n",
      "Epoch 33/50\n",
      "3356/3356 [==============================] - 0s 62us/step - loss: 7.4799\n",
      "Epoch 34/50\n",
      "3356/3356 [==============================] - 0s 73us/step - loss: 7.4520\n",
      "Epoch 35/50\n",
      "3356/3356 [==============================] - 0s 65us/step - loss: 7.4842\n",
      "Epoch 36/50\n",
      "3356/3356 [==============================] - 0s 65us/step - loss: 7.4810\n",
      "Epoch 37/50\n",
      "3356/3356 [==============================] - 0s 63us/step - loss: 7.4203\n",
      "Epoch 38/50\n",
      "3356/3356 [==============================] - 0s 63us/step - loss: 7.4163\n",
      "Epoch 39/50\n",
      "3356/3356 [==============================] - 0s 69us/step - loss: 7.4225\n",
      "Epoch 40/50\n",
      "3356/3356 [==============================] - 0s 78us/step - loss: 7.4012\n",
      "Epoch 41/50\n",
      "3356/3356 [==============================] - 0s 76us/step - loss: 7.3834\n",
      "Epoch 42/50\n",
      "3356/3356 [==============================] - 0s 74us/step - loss: 7.3624\n",
      "Epoch 43/50\n",
      "3356/3356 [==============================] - 0s 82us/step - loss: 7.4971\n",
      "Epoch 44/50\n",
      "3356/3356 [==============================] - 0s 72us/step - loss: 7.5531\n",
      "Epoch 45/50\n",
      "3356/3356 [==============================] - 0s 71us/step - loss: 7.4333\n",
      "Epoch 46/50\n",
      "3356/3356 [==============================] - 0s 73us/step - loss: 7.5000\n",
      "Epoch 47/50\n",
      "3356/3356 [==============================] - 0s 71us/step - loss: 7.4745\n",
      "Epoch 48/50\n",
      "3356/3356 [==============================] - 0s 66us/step - loss: 7.3606\n",
      "Epoch 49/50\n",
      "3356/3356 [==============================] - 0s 66us/step - loss: 7.3372\n",
      "Epoch 50/50\n",
      "3356/3356 [==============================] - 0s 71us/step - loss: 7.3393\n",
      "Best: -7.653400 using {'optimizer': 'Adam'}\n",
      "-8.310956 (0.864512) with: {'optimizer': 'SGD'}\n",
      "-7.798671 (0.266606) with: {'optimizer': 'RMSprop'}\n",
      "-7.880936 (0.373013) with: {'optimizer': 'Adagrad'}\n",
      "-7.774440 (0.364244) with: {'optimizer': 'Adadelta'}\n",
      "-7.653400 (0.376651) with: {'optimizer': 'Adam'}\n",
      "-7.807634 (0.352655) with: {'optimizer': 'Adamax'}\n",
      "-7.818225 (0.194464) with: {'optimizer': 'Nadam'}\n"
     ]
    }
   ],
   "source": [
    "optimizer = ['SGD', 'RMSprop', 'Adagrad', 'Adadelta', 'Adam', 'Adamax', 'Nadam']\n",
    "param_grid = dict(optimizer=optimizer)\n",
    "grid = GridSearchCV(estimator=model, param_grid=param_grid, n_jobs=-1, verbose=1)\n",
    "grid_result = grid.fit(X_train_scaled, y_train)\n",
    "# summarize results\n",
    "print(\"Best: %f using %s\" % (grid_result.best_score_, grid_result.best_params_))\n",
    "means = grid_result.cv_results_['mean_test_score']\n",
    "stds = grid_result.cv_results_['std_test_score']\n",
    "params = grid_result.cv_results_['params']\n",
    "for mean, stdev, param in zip(means, stds, params):\n",
    "    print(\"%f (%f) with: %r\" % (mean, stdev, param))"
   ]
  },
  {
   "cell_type": "markdown",
   "metadata": {},
   "source": [
    "## Learning Rate and Momentum"
   ]
  },
  {
   "cell_type": "code",
   "execution_count": 130,
   "metadata": {},
   "outputs": [],
   "source": [
    "from keras.optimizers import SGD\n",
    "def create_model(lr=0.01, momentum=0):\n",
    "    model = Sequential()\n",
    "    model.add(Dense(64,\n",
    "                    input_dim=X_train.shape[1],\n",
    "                    #kernel_initializer='normal',\n",
    "                    activation='relu'                   \n",
    "                   ))\n",
    "    model.add(Dense(1,\n",
    "                   #kernel_initializer='normal',\n",
    "                   activation='linear'\n",
    "                   ))\n",
    "    model.compile(loss='mse', optimizer=SGD(lr=lr, momentum=momentum))\n",
    "    return model"
   ]
  },
  {
   "cell_type": "code",
   "execution_count": 131,
   "metadata": {},
   "outputs": [],
   "source": [
    "model = KerasRegressor(build_fn=create_model, epochs=50, batch_size=64, verbose=1)"
   ]
  },
  {
   "cell_type": "code",
   "execution_count": 132,
   "metadata": {},
   "outputs": [
    {
     "name": "stdout",
     "output_type": "stream",
     "text": [
      "Fitting 3 folds for each of 30 candidates, totalling 90 fits\n"
     ]
    },
    {
     "name": "stderr",
     "output_type": "stream",
     "text": [
      "/home/huypham/anaconda3/lib/python3.6/site-packages/sklearn/model_selection/_split.py:2053: FutureWarning: You should specify a value for 'cv' instead of relying on the default value. The default value will change from 3 to 5 in version 0.22.\n",
      "  warnings.warn(CV_WARNING, FutureWarning)\n",
      "[Parallel(n_jobs=-1)]: Using backend LokyBackend with 2 concurrent workers.\n",
      "/home/huypham/anaconda3/lib/python3.6/site-packages/sklearn/externals/joblib/externals/loky/process_executor.py:706: UserWarning: A worker stopped while some jobs were given to the executor. This can be caused by a too short worker timeout or by a memory leak.\n",
      "  \"timeout or by a memory leak.\", UserWarning\n",
      "[Parallel(n_jobs=-1)]: Done  46 tasks      | elapsed:  1.5min\n",
      "[Parallel(n_jobs=-1)]: Done  90 out of  90 | elapsed:  3.0min finished\n"
     ]
    },
    {
     "name": "stdout",
     "output_type": "stream",
     "text": [
      "Epoch 1/50\n",
      "3356/3356 [==============================] - 1s 256us/step - loss: 15.9370\n",
      "Epoch 2/50\n",
      "3356/3356 [==============================] - 0s 57us/step - loss: 9.1777\n",
      "Epoch 3/50\n",
      "3356/3356 [==============================] - 0s 57us/step - loss: 8.3251\n",
      "Epoch 4/50\n",
      "3356/3356 [==============================] - 0s 60us/step - loss: 8.5354\n",
      "Epoch 5/50\n",
      "3356/3356 [==============================] - 0s 54us/step - loss: 8.0242\n",
      "Epoch 6/50\n",
      "3356/3356 [==============================] - 0s 54us/step - loss: 8.3384\n",
      "Epoch 7/50\n",
      "3356/3356 [==============================] - 0s 58us/step - loss: 8.3934\n",
      "Epoch 8/50\n",
      "3356/3356 [==============================] - 0s 56us/step - loss: 8.2491\n",
      "Epoch 9/50\n",
      "3356/3356 [==============================] - 0s 52us/step - loss: 8.4118\n",
      "Epoch 10/50\n",
      "3356/3356 [==============================] - 0s 48us/step - loss: 8.0667\n",
      "Epoch 11/50\n",
      "3356/3356 [==============================] - 0s 57us/step - loss: 8.0135\n",
      "Epoch 12/50\n",
      "3356/3356 [==============================] - 0s 53us/step - loss: 8.2585\n",
      "Epoch 13/50\n",
      "3356/3356 [==============================] - 0s 56us/step - loss: 7.8585\n",
      "Epoch 14/50\n",
      "3356/3356 [==============================] - 0s 54us/step - loss: 7.9210\n",
      "Epoch 15/50\n",
      "3356/3356 [==============================] - 0s 74us/step - loss: 7.7153\n",
      "Epoch 16/50\n",
      "3356/3356 [==============================] - 0s 74us/step - loss: 7.9430\n",
      "Epoch 17/50\n",
      "3356/3356 [==============================] - 0s 71us/step - loss: 7.8801\n",
      "Epoch 18/50\n",
      "3356/3356 [==============================] - 0s 88us/step - loss: 7.8181\n",
      "Epoch 19/50\n",
      "3356/3356 [==============================] - 0s 73us/step - loss: 7.8345\n",
      "Epoch 20/50\n",
      "3356/3356 [==============================] - 0s 74us/step - loss: 7.6526\n",
      "Epoch 21/50\n",
      "3356/3356 [==============================] - 0s 89us/step - loss: 7.7262\n",
      "Epoch 22/50\n",
      "3356/3356 [==============================] - 0s 71us/step - loss: 7.7690\n",
      "Epoch 23/50\n",
      "3356/3356 [==============================] - 0s 55us/step - loss: 7.8278\n",
      "Epoch 24/50\n",
      "3356/3356 [==============================] - 0s 61us/step - loss: 7.7825\n",
      "Epoch 25/50\n",
      "3356/3356 [==============================] - 0s 58us/step - loss: 7.5969\n",
      "Epoch 26/50\n",
      "3356/3356 [==============================] - 0s 56us/step - loss: 7.7575\n",
      "Epoch 27/50\n",
      "3356/3356 [==============================] - 0s 59us/step - loss: 7.7098\n",
      "Epoch 28/50\n",
      "3356/3356 [==============================] - 0s 58us/step - loss: 7.6406\n",
      "Epoch 29/50\n",
      "3356/3356 [==============================] - 0s 56us/step - loss: 7.8069\n",
      "Epoch 30/50\n",
      "3356/3356 [==============================] - 0s 53us/step - loss: 7.7692\n",
      "Epoch 31/50\n",
      "3356/3356 [==============================] - 0s 54us/step - loss: 7.7870\n",
      "Epoch 32/50\n",
      "3356/3356 [==============================] - 0s 55us/step - loss: 7.8199\n",
      "Epoch 33/50\n",
      "3356/3356 [==============================] - 0s 54us/step - loss: 7.4983\n",
      "Epoch 34/50\n",
      "3356/3356 [==============================] - 0s 56us/step - loss: 7.9368\n",
      "Epoch 35/50\n",
      "3356/3356 [==============================] - 0s 60us/step - loss: 7.5601\n",
      "Epoch 36/50\n",
      "3356/3356 [==============================] - 0s 64us/step - loss: 7.9174\n",
      "Epoch 37/50\n",
      "3356/3356 [==============================] - 0s 46us/step - loss: 7.8953\n",
      "Epoch 38/50\n",
      "3356/3356 [==============================] - 0s 57us/step - loss: 7.7162\n",
      "Epoch 39/50\n",
      "3356/3356 [==============================] - 0s 56us/step - loss: 7.5187\n",
      "Epoch 40/50\n",
      "3356/3356 [==============================] - 0s 55us/step - loss: 7.9067\n",
      "Epoch 41/50\n",
      "3356/3356 [==============================] - 0s 52us/step - loss: 7.9371\n",
      "Epoch 42/50\n",
      "3356/3356 [==============================] - 0s 56us/step - loss: 7.6092\n",
      "Epoch 43/50\n",
      "3356/3356 [==============================] - 0s 49us/step - loss: 7.8842\n",
      "Epoch 44/50\n",
      "3356/3356 [==============================] - 0s 59us/step - loss: 7.6041\n",
      "Epoch 45/50\n",
      "3356/3356 [==============================] - 0s 56us/step - loss: 7.6897\n",
      "Epoch 46/50\n",
      "3356/3356 [==============================] - 0s 60us/step - loss: 7.4799\n",
      "Epoch 47/50\n",
      "3356/3356 [==============================] - 0s 60us/step - loss: 7.6177\n",
      "Epoch 48/50\n",
      "3356/3356 [==============================] - 0s 54us/step - loss: 7.4381\n",
      "Epoch 49/50\n",
      "3356/3356 [==============================] - 0s 61us/step - loss: 7.9306\n",
      "Epoch 50/50\n",
      "3356/3356 [==============================] - 0s 55us/step - loss: 7.4523\n",
      "Best: -7.628198 using {'lr': 0.01, 'momentum': 0.8}\n",
      "-8.138315 (0.321730) with: {'lr': 0.001, 'momentum': 0.0}\n",
      "-7.996446 (0.387432) with: {'lr': 0.001, 'momentum': 0.2}\n",
      "-8.113032 (0.653978) with: {'lr': 0.001, 'momentum': 0.4}\n",
      "-7.920078 (0.288973) with: {'lr': 0.001, 'momentum': 0.6}\n",
      "-7.685408 (0.389325) with: {'lr': 0.001, 'momentum': 0.8}\n",
      "-8.056500 (0.566636) with: {'lr': 0.001, 'momentum': 0.9}\n",
      "-7.644691 (0.378297) with: {'lr': 0.01, 'momentum': 0.0}\n",
      "-7.922071 (0.495583) with: {'lr': 0.01, 'momentum': 0.2}\n",
      "-7.712552 (0.358810) with: {'lr': 0.01, 'momentum': 0.4}\n",
      "-8.984759 (1.485511) with: {'lr': 0.01, 'momentum': 0.6}\n",
      "-7.628198 (0.361565) with: {'lr': 0.01, 'momentum': 0.8}\n",
      "-8.183841 (0.608962) with: {'lr': 0.01, 'momentum': 0.9}\n",
      "-13.571375 (0.447239) with: {'lr': 0.1, 'momentum': 0.0}\n",
      "-13.531635 (0.444632) with: {'lr': 0.1, 'momentum': 0.2}\n",
      "-13.552640 (0.495691) with: {'lr': 0.1, 'momentum': 0.4}\n",
      "-13.554767 (0.429288) with: {'lr': 0.1, 'momentum': 0.6}\n",
      "-13.547782 (0.500943) with: {'lr': 0.1, 'momentum': 0.8}\n",
      "-13.606802 (0.379897) with: {'lr': 0.1, 'momentum': 0.9}\n",
      "-13.657360 (0.654043) with: {'lr': 0.2, 'momentum': 0.0}\n",
      "-13.628085 (0.386648) with: {'lr': 0.2, 'momentum': 0.2}\n",
      "nan (nan) with: {'lr': 0.2, 'momentum': 0.4}\n",
      "nan (nan) with: {'lr': 0.2, 'momentum': 0.6}\n",
      "-14.349021 (0.552368) with: {'lr': 0.2, 'momentum': 0.8}\n",
      "nan (nan) with: {'lr': 0.2, 'momentum': 0.9}\n",
      "nan (nan) with: {'lr': 0.3, 'momentum': 0.0}\n",
      "nan (nan) with: {'lr': 0.3, 'momentum': 0.2}\n",
      "nan (nan) with: {'lr': 0.3, 'momentum': 0.4}\n",
      "nan (nan) with: {'lr': 0.3, 'momentum': 0.6}\n",
      "nan (nan) with: {'lr': 0.3, 'momentum': 0.8}\n",
      "nan (nan) with: {'lr': 0.3, 'momentum': 0.9}\n"
     ]
    }
   ],
   "source": [
    "lr = [0.001, 0.01, 0.1, 0.2, 0.3]\n",
    "momentum = [0.0, 0.2, 0.4, 0.6, 0.8, 0.9]\n",
    "param_grid = dict(lr=lr, momentum=momentum)\n",
    "grid = GridSearchCV(estimator=model, param_grid=param_grid, n_jobs=-1, verbose=1)\n",
    "grid_result = grid.fit(X_train_scaled, y_train)\n",
    "# summarize results\n",
    "print(\"Best: %f using %s\" % (grid_result.best_score_, grid_result.best_params_))\n",
    "means = grid_result.cv_results_['mean_test_score']\n",
    "stds = grid_result.cv_results_['std_test_score']\n",
    "params = grid_result.cv_results_['params']\n",
    "for mean, stdev, param in zip(means, stds, params):\n",
    "    print(\"%f (%f) with: %r\" % (mean, stdev, param))"
   ]
  },
  {
   "cell_type": "markdown",
   "metadata": {},
   "source": [
    "## Activation Function"
   ]
  },
  {
   "cell_type": "code",
   "execution_count": 181,
   "metadata": {},
   "outputs": [],
   "source": [
    "from keras.optimizers import SGD\n",
    "def create_model(activation='relu'):\n",
    "    model = Sequential()\n",
    "    model.add(Dense(64,\n",
    "                    input_dim=X_train.shape[1],\n",
    "                    #kernel_initializer='normal',\n",
    "                    activation=activation                   \n",
    "                   ))\n",
    "    model.add(Dense(1,\n",
    "                   #kernel_initializer='normal',\n",
    "                   activation='linear'\n",
    "                   ))\n",
    "    model.compile(loss='mse', optimizer='Nadam')\n",
    "    return model"
   ]
  },
  {
   "cell_type": "code",
   "execution_count": 182,
   "metadata": {},
   "outputs": [],
   "source": [
    "model = KerasRegressor(build_fn=create_model, epochs=50, batch_size=64, shuffle=True ,verbose=1)"
   ]
  },
  {
   "cell_type": "code",
   "execution_count": 183,
   "metadata": {},
   "outputs": [
    {
     "name": "stdout",
     "output_type": "stream",
     "text": [
      "Epoch 1/50\n",
      "3356/3356 [==============================] - 1s 384us/step - loss: 14.7218\n",
      "Epoch 2/50\n",
      "3356/3356 [==============================] - 0s 73us/step - loss: 9.8252\n",
      "Epoch 3/50\n",
      "3356/3356 [==============================] - 0s 71us/step - loss: 8.8356\n",
      "Epoch 4/50\n",
      "3356/3356 [==============================] - 0s 63us/step - loss: 8.5408\n",
      "Epoch 5/50\n",
      "3356/3356 [==============================] - 0s 73us/step - loss: 8.3756\n",
      "Epoch 6/50\n",
      "3356/3356 [==============================] - 0s 62us/step - loss: 8.2067\n",
      "Epoch 7/50\n",
      "3356/3356 [==============================] - 0s 78us/step - loss: 8.1634\n",
      "Epoch 8/50\n",
      "3356/3356 [==============================] - 0s 61us/step - loss: 7.9835\n",
      "Epoch 9/50\n",
      "3356/3356 [==============================] - 0s 66us/step - loss: 7.9668\n",
      "Epoch 10/50\n",
      "3356/3356 [==============================] - 0s 73us/step - loss: 7.8988\n",
      "Epoch 11/50\n",
      "3356/3356 [==============================] - 0s 88us/step - loss: 7.8601\n",
      "Epoch 12/50\n",
      "3356/3356 [==============================] - 0s 69us/step - loss: 7.8593\n",
      "Epoch 13/50\n",
      "3356/3356 [==============================] - 0s 70us/step - loss: 7.7998\n",
      "Epoch 14/50\n",
      "3356/3356 [==============================] - 0s 59us/step - loss: 7.8417\n",
      "Epoch 15/50\n",
      "3356/3356 [==============================] - 0s 56us/step - loss: 7.7344\n",
      "Epoch 16/50\n",
      "3356/3356 [==============================] - 0s 66us/step - loss: 7.7470\n",
      "Epoch 17/50\n",
      "3356/3356 [==============================] - 0s 73us/step - loss: 7.7826\n",
      "Epoch 18/50\n",
      "3356/3356 [==============================] - 0s 81us/step - loss: 7.7438\n",
      "Epoch 19/50\n",
      "3356/3356 [==============================] - 0s 72us/step - loss: 7.7001\n",
      "Epoch 20/50\n",
      "3356/3356 [==============================] - 0s 63us/step - loss: 7.6074\n",
      "Epoch 21/50\n",
      "3356/3356 [==============================] - 0s 73us/step - loss: 7.6039\n",
      "Epoch 22/50\n",
      "3356/3356 [==============================] - 0s 67us/step - loss: 7.5960\n",
      "Epoch 23/50\n",
      "3356/3356 [==============================] - 0s 53us/step - loss: 7.6451\n",
      "Epoch 24/50\n",
      "3356/3356 [==============================] - 0s 61us/step - loss: 7.5635\n",
      "Epoch 25/50\n",
      "3356/3356 [==============================] - 0s 72us/step - loss: 7.5700\n",
      "Epoch 26/50\n",
      "3356/3356 [==============================] - 0s 62us/step - loss: 7.6811\n",
      "Epoch 27/50\n",
      "3356/3356 [==============================] - 0s 72us/step - loss: 7.5461\n",
      "Epoch 28/50\n",
      "3356/3356 [==============================] - 0s 83us/step - loss: 7.5929\n",
      "Epoch 29/50\n",
      "3356/3356 [==============================] - 0s 81us/step - loss: 7.5165\n",
      "Epoch 30/50\n",
      "3356/3356 [==============================] - 0s 82us/step - loss: 7.5574\n",
      "Epoch 31/50\n",
      "3356/3356 [==============================] - 0s 67us/step - loss: 7.5530\n",
      "Epoch 32/50\n",
      "3356/3356 [==============================] - 0s 67us/step - loss: 7.5475\n",
      "Epoch 33/50\n",
      "3356/3356 [==============================] - 0s 69us/step - loss: 7.4354\n",
      "Epoch 34/50\n",
      "3356/3356 [==============================] - 0s 69us/step - loss: 7.3751\n",
      "Epoch 35/50\n",
      "3356/3356 [==============================] - 0s 63us/step - loss: 7.4308\n",
      "Epoch 36/50\n",
      "3356/3356 [==============================] - 0s 58us/step - loss: 7.4403\n",
      "Epoch 37/50\n",
      "3356/3356 [==============================] - 0s 78us/step - loss: 7.4256\n",
      "Epoch 38/50\n",
      "3356/3356 [==============================] - 0s 69us/step - loss: 7.4663\n",
      "Epoch 39/50\n",
      "3356/3356 [==============================] - 0s 73us/step - loss: 7.4199\n",
      "Epoch 40/50\n",
      "3356/3356 [==============================] - 0s 73us/step - loss: 7.3883\n",
      "Epoch 41/50\n",
      "3356/3356 [==============================] - 0s 71us/step - loss: 7.4246\n",
      "Epoch 42/50\n",
      "3356/3356 [==============================] - 0s 77us/step - loss: 7.4361\n",
      "Epoch 43/50\n",
      "3356/3356 [==============================] - 0s 71us/step - loss: 7.4202\n",
      "Epoch 44/50\n",
      "3356/3356 [==============================] - 0s 75us/step - loss: 7.4021\n",
      "Epoch 45/50\n",
      "3356/3356 [==============================] - 0s 78us/step - loss: 7.3744\n",
      "Epoch 46/50\n",
      "3356/3356 [==============================] - 0s 75us/step - loss: 7.3278\n",
      "Epoch 47/50\n",
      "3356/3356 [==============================] - 0s 72us/step - loss: 7.3607\n",
      "Epoch 48/50\n",
      "3356/3356 [==============================] - 0s 68us/step - loss: 7.3149\n",
      "Epoch 49/50\n",
      "3356/3356 [==============================] - 0s 78us/step - loss: 7.4400\n",
      "Epoch 50/50\n",
      "3356/3356 [==============================] - 0s 92us/step - loss: 7.3606\n",
      "Best: -7.580658 using {'activation': 'relu'}\n",
      "-13.949621 (0.593437) with: {'activation': 'softmax'}\n",
      "-7.772418 (0.409555) with: {'activation': 'softplus'}\n",
      "-7.648948 (0.487423) with: {'activation': 'softsign'}\n",
      "-7.580658 (0.364221) with: {'activation': 'relu'}\n",
      "-7.638037 (0.360424) with: {'activation': 'tanh'}\n",
      "-7.924758 (0.746699) with: {'activation': 'sigmoid'}\n",
      "-7.696667 (0.336030) with: {'activation': 'hard_sigmoid'}\n",
      "-7.968354 (0.553951) with: {'activation': 'linear'}\n"
     ]
    }
   ],
   "source": [
    "activation = ['softmax', 'softplus', 'softsign', 'relu', 'tanh', 'sigmoid', 'hard_sigmoid', 'linear']\n",
    "param_grid = dict(activation=activation)\n",
    "grid = GridSearchCV(estimator=model, param_grid=param_grid, n_jobs=-1)\n",
    "grid_result = grid.fit(X_train_scaled, y_train)\n",
    "# summarize results\n",
    "print(\"Best: %f using %s\" % (grid_result.best_score_, grid_result.best_params_))\n",
    "means = grid_result.cv_results_['mean_test_score']\n",
    "stds = grid_result.cv_results_['std_test_score']\n",
    "params = grid_result.cv_results_['params']\n",
    "for mean, stdev, param in zip(means, stds, params):\n",
    "    print(\"%f (%f) with: %r\" % (mean, stdev, param))"
   ]
  },
  {
   "cell_type": "code",
   "execution_count": null,
   "metadata": {},
   "outputs": [],
   "source": []
  },
  {
   "cell_type": "markdown",
   "metadata": {},
   "source": [
    "## Network Weight Initialization"
   ]
  },
  {
   "cell_type": "code",
   "execution_count": 152,
   "metadata": {},
   "outputs": [],
   "source": [
    "def create_model(init_mode='uniform'):\n",
    "    model = Sequential()\n",
    "    model.add(Dense(64,\n",
    "                    input_dim=X_train.shape[1],\n",
    "                    #kernel_initializer='normal',\n",
    "                    activation='tanh',\n",
    "                    kernel_initializer=init_mode\n",
    "                   ))\n",
    "    model.add(Dense(1,\n",
    "                   #kernel_initializer='normal',\n",
    "                   activation='linear'\n",
    "                   ))\n",
    "    model.compile(loss='mse', optimizer='adam')\n",
    "    return model"
   ]
  },
  {
   "cell_type": "code",
   "execution_count": 153,
   "metadata": {},
   "outputs": [],
   "source": [
    "model = KerasRegressor(build_fn=create_model, epochs=100, batch_size=64)"
   ]
  },
  {
   "cell_type": "code",
   "execution_count": 154,
   "metadata": {},
   "outputs": [
    {
     "name": "stdout",
     "output_type": "stream",
     "text": [
      "Fitting 3 folds for each of 8 candidates, totalling 24 fits\n"
     ]
    },
    {
     "name": "stderr",
     "output_type": "stream",
     "text": [
      "[Parallel(n_jobs=-1)]: Using backend LokyBackend with 2 concurrent workers.\n",
      "[Parallel(n_jobs=-1)]: Done  24 out of  24 | elapsed:  1.7min finished\n"
     ]
    },
    {
     "name": "stdout",
     "output_type": "stream",
     "text": [
      "Epoch 1/100\n",
      "3356/3356 [==============================] - 1s 340us/step - loss: 15.9557\n",
      "Epoch 2/100\n",
      "3356/3356 [==============================] - 0s 53us/step - loss: 12.2777\n",
      "Epoch 3/100\n",
      "3356/3356 [==============================] - 0s 40us/step - loss: 10.5823\n",
      "Epoch 4/100\n",
      "3356/3356 [==============================] - 0s 42us/step - loss: 9.3398\n",
      "Epoch 5/100\n",
      "3356/3356 [==============================] - 0s 41us/step - loss: 8.7040\n",
      "Epoch 6/100\n",
      "3356/3356 [==============================] - 0s 55us/step - loss: 8.4263\n",
      "Epoch 7/100\n",
      "3356/3356 [==============================] - 0s 40us/step - loss: 8.3415\n",
      "Epoch 8/100\n",
      "3356/3356 [==============================] - 0s 38us/step - loss: 8.1226\n",
      "Epoch 9/100\n",
      "3356/3356 [==============================] - 0s 38us/step - loss: 8.0454\n",
      "Epoch 10/100\n",
      "3356/3356 [==============================] - 0s 42us/step - loss: 7.9791\n",
      "Epoch 11/100\n",
      "3356/3356 [==============================] - 0s 37us/step - loss: 7.9114\n",
      "Epoch 12/100\n",
      "3356/3356 [==============================] - 0s 36us/step - loss: 7.9067\n",
      "Epoch 13/100\n",
      "3356/3356 [==============================] - 0s 41us/step - loss: 7.9294\n",
      "Epoch 14/100\n",
      "3356/3356 [==============================] - 0s 38us/step - loss: 7.9077\n",
      "Epoch 15/100\n",
      "3356/3356 [==============================] - 0s 39us/step - loss: 7.9743\n",
      "Epoch 16/100\n",
      "3356/3356 [==============================] - 0s 42us/step - loss: 7.7833\n",
      "Epoch 17/100\n",
      "3356/3356 [==============================] - 0s 36us/step - loss: 7.7239\n",
      "Epoch 18/100\n",
      "3356/3356 [==============================] - 0s 43us/step - loss: 7.7459\n",
      "Epoch 19/100\n",
      "3356/3356 [==============================] - 0s 34us/step - loss: 7.7099\n",
      "Epoch 20/100\n",
      "3356/3356 [==============================] - 0s 42us/step - loss: 7.7246\n",
      "Epoch 21/100\n",
      "3356/3356 [==============================] - 0s 39us/step - loss: 7.6213\n",
      "Epoch 22/100\n",
      "3356/3356 [==============================] - 0s 42us/step - loss: 7.6272\n",
      "Epoch 23/100\n",
      "3356/3356 [==============================] - 0s 31us/step - loss: 7.6737\n",
      "Epoch 24/100\n",
      "3356/3356 [==============================] - 0s 34us/step - loss: 7.6104\n",
      "Epoch 25/100\n",
      "3356/3356 [==============================] - 0s 40us/step - loss: 7.6056\n",
      "Epoch 26/100\n",
      "3356/3356 [==============================] - 0s 50us/step - loss: 7.6206\n",
      "Epoch 27/100\n",
      "3356/3356 [==============================] - 0s 46us/step - loss: 7.5629\n",
      "Epoch 28/100\n",
      "3356/3356 [==============================] - 0s 41us/step - loss: 7.5199\n",
      "Epoch 29/100\n",
      "3356/3356 [==============================] - 0s 39us/step - loss: 7.5485\n",
      "Epoch 30/100\n",
      "3356/3356 [==============================] - 0s 34us/step - loss: 7.5620\n",
      "Epoch 31/100\n",
      "3356/3356 [==============================] - 0s 40us/step - loss: 7.5377\n",
      "Epoch 32/100\n",
      "3356/3356 [==============================] - 0s 33us/step - loss: 7.5302\n",
      "Epoch 33/100\n",
      "3356/3356 [==============================] - 0s 37us/step - loss: 7.4927\n",
      "Epoch 34/100\n",
      "3356/3356 [==============================] - 0s 38us/step - loss: 7.4658\n",
      "Epoch 35/100\n",
      "3356/3356 [==============================] - 0s 48us/step - loss: 7.4924\n",
      "Epoch 36/100\n",
      "3356/3356 [==============================] - 0s 46us/step - loss: 7.4720\n",
      "Epoch 37/100\n",
      "3356/3356 [==============================] - 0s 43us/step - loss: 7.4682\n",
      "Epoch 38/100\n",
      "3356/3356 [==============================] - 0s 35us/step - loss: 7.4113\n",
      "Epoch 39/100\n",
      "3356/3356 [==============================] - 0s 33us/step - loss: 7.3975\n",
      "Epoch 40/100\n",
      "3356/3356 [==============================] - 0s 36us/step - loss: 7.4326\n",
      "Epoch 41/100\n",
      "3356/3356 [==============================] - 0s 40us/step - loss: 7.4979\n",
      "Epoch 42/100\n",
      "3356/3356 [==============================] - 0s 43us/step - loss: 7.4158\n",
      "Epoch 43/100\n",
      "3356/3356 [==============================] - 0s 38us/step - loss: 7.5237\n",
      "Epoch 44/100\n",
      "3356/3356 [==============================] - 0s 40us/step - loss: 7.3469\n",
      "Epoch 45/100\n",
      "3356/3356 [==============================] - 0s 34us/step - loss: 7.4252\n",
      "Epoch 46/100\n",
      "3356/3356 [==============================] - 0s 38us/step - loss: 7.3860\n",
      "Epoch 47/100\n",
      "3356/3356 [==============================] - 0s 38us/step - loss: 7.5265\n",
      "Epoch 48/100\n",
      "3356/3356 [==============================] - 0s 37us/step - loss: 7.3627\n",
      "Epoch 49/100\n",
      "3356/3356 [==============================] - 0s 37us/step - loss: 7.3902\n",
      "Epoch 50/100\n",
      "3356/3356 [==============================] - 0s 38us/step - loss: 7.3600\n",
      "Epoch 51/100\n",
      "3356/3356 [==============================] - 0s 33us/step - loss: 7.3600\n",
      "Epoch 52/100\n",
      "3356/3356 [==============================] - 0s 34us/step - loss: 7.3187\n",
      "Epoch 53/100\n",
      "3356/3356 [==============================] - 0s 39us/step - loss: 7.3740\n",
      "Epoch 54/100\n",
      "3356/3356 [==============================] - 0s 41us/step - loss: 7.3771\n",
      "Epoch 55/100\n",
      "3356/3356 [==============================] - 0s 40us/step - loss: 7.3745\n",
      "Epoch 56/100\n",
      "3356/3356 [==============================] - 0s 39us/step - loss: 7.3281\n",
      "Epoch 57/100\n",
      "3356/3356 [==============================] - 0s 42us/step - loss: 7.3588\n",
      "Epoch 58/100\n",
      "3356/3356 [==============================] - 0s 38us/step - loss: 7.3098\n",
      "Epoch 59/100\n",
      "3356/3356 [==============================] - 0s 41us/step - loss: 7.3535\n",
      "Epoch 60/100\n",
      "3356/3356 [==============================] - 0s 44us/step - loss: 7.4384\n",
      "Epoch 61/100\n",
      "3356/3356 [==============================] - 0s 41us/step - loss: 7.3527\n",
      "Epoch 62/100\n",
      "3356/3356 [==============================] - 0s 51us/step - loss: 7.2683\n",
      "Epoch 63/100\n",
      "3356/3356 [==============================] - 0s 40us/step - loss: 7.4980\n",
      "Epoch 64/100\n",
      "3356/3356 [==============================] - 0s 40us/step - loss: 7.2858\n",
      "Epoch 65/100\n",
      "3356/3356 [==============================] - 0s 32us/step - loss: 7.3671\n",
      "Epoch 66/100\n",
      "3356/3356 [==============================] - 0s 34us/step - loss: 7.2613\n",
      "Epoch 67/100\n",
      "3356/3356 [==============================] - 0s 39us/step - loss: 7.2829\n",
      "Epoch 68/100\n",
      "3356/3356 [==============================] - 0s 36us/step - loss: 7.2684\n",
      "Epoch 69/100\n",
      "3356/3356 [==============================] - 0s 37us/step - loss: 7.2612\n",
      "Epoch 70/100\n",
      "3356/3356 [==============================] - 0s 36us/step - loss: 7.3565\n",
      "Epoch 71/100\n",
      "3356/3356 [==============================] - 0s 36us/step - loss: 7.4667\n",
      "Epoch 72/100\n",
      "3356/3356 [==============================] - 0s 41us/step - loss: 7.2510\n",
      "Epoch 73/100\n",
      "3356/3356 [==============================] - 0s 31us/step - loss: 7.2656\n",
      "Epoch 74/100\n",
      "3356/3356 [==============================] - 0s 41us/step - loss: 7.2575\n",
      "Epoch 75/100\n",
      "3356/3356 [==============================] - 0s 40us/step - loss: 7.2053\n",
      "Epoch 76/100\n",
      "3356/3356 [==============================] - 0s 41us/step - loss: 7.3086\n",
      "Epoch 77/100\n",
      "3356/3356 [==============================] - 0s 45us/step - loss: 7.2153\n",
      "Epoch 78/100\n",
      "3356/3356 [==============================] - 0s 44us/step - loss: 7.2236\n",
      "Epoch 79/100\n",
      "3356/3356 [==============================] - 0s 47us/step - loss: 7.3797\n",
      "Epoch 80/100\n",
      "3356/3356 [==============================] - 0s 43us/step - loss: 7.2399\n",
      "Epoch 81/100\n",
      "3356/3356 [==============================] - 0s 53us/step - loss: 7.2106\n",
      "Epoch 82/100\n",
      "3356/3356 [==============================] - 0s 47us/step - loss: 7.2291\n",
      "Epoch 83/100\n",
      "3356/3356 [==============================] - 0s 47us/step - loss: 7.2261\n",
      "Epoch 84/100\n",
      "3356/3356 [==============================] - 0s 40us/step - loss: 7.3103\n",
      "Epoch 85/100\n",
      "3356/3356 [==============================] - 0s 39us/step - loss: 7.2822\n",
      "Epoch 86/100\n",
      "3356/3356 [==============================] - 0s 41us/step - loss: 7.2976\n",
      "Epoch 87/100\n",
      "3356/3356 [==============================] - 0s 44us/step - loss: 7.3163\n",
      "Epoch 88/100\n",
      "3356/3356 [==============================] - 0s 54us/step - loss: 7.2587\n",
      "Epoch 89/100\n",
      "3356/3356 [==============================] - 0s 57us/step - loss: 7.2736\n",
      "Epoch 90/100\n",
      "3356/3356 [==============================] - 0s 45us/step - loss: 7.2471\n",
      "Epoch 91/100\n",
      "3356/3356 [==============================] - 0s 44us/step - loss: 7.1843\n",
      "Epoch 92/100\n",
      "3356/3356 [==============================] - 0s 43us/step - loss: 7.1654\n",
      "Epoch 93/100\n",
      "3356/3356 [==============================] - 0s 42us/step - loss: 7.1718\n",
      "Epoch 94/100\n",
      "3356/3356 [==============================] - 0s 42us/step - loss: 7.2161\n",
      "Epoch 95/100\n",
      "3356/3356 [==============================] - 0s 36us/step - loss: 7.1896\n",
      "Epoch 96/100\n",
      "3356/3356 [==============================] - 0s 45us/step - loss: 7.1800\n",
      "Epoch 97/100\n",
      "3356/3356 [==============================] - 0s 42us/step - loss: 7.2170\n",
      "Epoch 98/100\n",
      "3356/3356 [==============================] - 0s 37us/step - loss: 7.1524\n",
      "Epoch 99/100\n",
      "3356/3356 [==============================] - 0s 40us/step - loss: 7.1196\n",
      "Epoch 100/100\n",
      "3356/3356 [==============================] - 0s 35us/step - loss: 7.1388\n",
      "Best: -7.476270 using {'init_mode': 'lecun_uniform'}\n",
      "-7.665706 (0.578881) with: {'init_mode': 'uniform'}\n",
      "-7.476270 (0.387881) with: {'init_mode': 'lecun_uniform'}\n",
      "-7.496248 (0.433780) with: {'init_mode': 'normal'}\n",
      "-7.497740 (0.368669) with: {'init_mode': 'zero'}\n",
      "-7.495214 (0.363143) with: {'init_mode': 'glorot_normal'}\n",
      "-7.480811 (0.390385) with: {'init_mode': 'glorot_uniform'}\n",
      "-7.489679 (0.411178) with: {'init_mode': 'he_normal'}\n",
      "-7.532432 (0.376852) with: {'init_mode': 'he_uniform'}\n"
     ]
    }
   ],
   "source": [
    "init_mode = ['uniform', 'lecun_uniform', 'normal', 'zero', 'glorot_normal', 'glorot_uniform', 'he_normal', 'he_uniform']\n",
    "param_grid = dict(init_mode=init_mode)\n",
    "grid = GridSearchCV(estimator=model, param_grid=param_grid, n_jobs=-1, verbose=1)\n",
    "grid_result = grid.fit(X_train_scaled, y_train)\n",
    "# summarize results\n",
    "print(\"Best: %f using %s\" % (grid_result.best_score_, grid_result.best_params_))\n",
    "means = grid_result.cv_results_['mean_test_score']\n",
    "stds = grid_result.cv_results_['std_test_score']\n",
    "params = grid_result.cv_results_['params']\n",
    "for mean, stdev, param in zip(means, stds, params):\n",
    "    print(\"%f (%f) with: %r\" % (mean, stdev, param))"
   ]
  },
  {
   "cell_type": "code",
   "execution_count": null,
   "metadata": {},
   "outputs": [],
   "source": []
  },
  {
   "cell_type": "code",
   "execution_count": null,
   "metadata": {},
   "outputs": [],
   "source": []
  },
  {
   "cell_type": "markdown",
   "metadata": {},
   "source": [
    "## Dropout"
   ]
  },
  {
   "cell_type": "code",
   "execution_count": 184,
   "metadata": {},
   "outputs": [],
   "source": [
    "from keras.constraints import maxnorm\n",
    "from keras.layers import Dropout\n",
    "\n",
    "def create_model(dropout_rate=0.0, weight_constraint=0):\n",
    "    # create model\n",
    "    model = Sequential()\n",
    "    model.add(Dense(64, input_dim=X_train.shape[1], kernel_initializer='lecun_uniform', activation='softsign', kernel_constraint=maxnorm(weight_constraint)))\n",
    "    model.add(Dropout(dropout_rate))\n",
    "    model.add(Dense(1, kernel_initializer='lecun_uniform', activation='linear'))\n",
    "    # Compile model\n",
    "    model.compile(loss='mse', optimizer='adam')\n",
    "    return model"
   ]
  },
  {
   "cell_type": "code",
   "execution_count": 185,
   "metadata": {},
   "outputs": [],
   "source": [
    "model = KerasRegressor(build_fn=create_model, epochs=50, batch_size=64, verbose=1)"
   ]
  },
  {
   "cell_type": "code",
   "execution_count": 186,
   "metadata": {},
   "outputs": [
    {
     "name": "stdout",
     "output_type": "stream",
     "text": [
      "Fitting 3 folds for each of 18 candidates, totalling 54 fits\n"
     ]
    },
    {
     "name": "stderr",
     "output_type": "stream",
     "text": [
      "[Parallel(n_jobs=-1)]: Using backend LokyBackend with 2 concurrent workers.\n",
      "[Parallel(n_jobs=-1)]: Done  46 tasks      | elapsed:  2.2min\n",
      "[Parallel(n_jobs=-1)]: Done  54 out of  54 | elapsed:  2.6min finished\n"
     ]
    },
    {
     "name": "stdout",
     "output_type": "stream",
     "text": [
      "Epoch 1/50\n",
      "3356/3356 [==============================] - 1s 411us/step - loss: 17.6253\n",
      "Epoch 2/50\n",
      "3356/3356 [==============================] - 0s 57us/step - loss: 13.7168\n",
      "Epoch 3/50\n",
      "3356/3356 [==============================] - 0s 57us/step - loss: 13.1289\n",
      "Epoch 4/50\n",
      "3356/3356 [==============================] - 0s 55us/step - loss: 12.1986\n",
      "Epoch 5/50\n",
      "3356/3356 [==============================] - 0s 59us/step - loss: 11.0131\n",
      "Epoch 6/50\n",
      "3356/3356 [==============================] - 0s 61us/step - loss: 9.9498\n",
      "Epoch 7/50\n",
      "3356/3356 [==============================] - 0s 59us/step - loss: 9.2321\n",
      "Epoch 8/50\n",
      "3356/3356 [==============================] - 0s 61us/step - loss: 8.8285\n",
      "Epoch 9/50\n",
      "3356/3356 [==============================] - 0s 59us/step - loss: 8.6449\n",
      "Epoch 10/50\n",
      "3356/3356 [==============================] - 0s 56us/step - loss: 8.5970\n",
      "Epoch 11/50\n",
      "3356/3356 [==============================] - 0s 55us/step - loss: 8.4063\n",
      "Epoch 12/50\n",
      "3356/3356 [==============================] - 0s 59us/step - loss: 8.2729\n",
      "Epoch 13/50\n",
      "3356/3356 [==============================] - 0s 73us/step - loss: 8.2490\n",
      "Epoch 14/50\n",
      "3356/3356 [==============================] - 0s 62us/step - loss: 8.0600\n",
      "Epoch 15/50\n",
      "3356/3356 [==============================] - 0s 56us/step - loss: 8.1719\n",
      "Epoch 16/50\n",
      "3356/3356 [==============================] - 0s 80us/step - loss: 8.0428\n",
      "Epoch 17/50\n",
      "3356/3356 [==============================] - 0s 57us/step - loss: 8.1499\n",
      "Epoch 18/50\n",
      "3356/3356 [==============================] - 0s 54us/step - loss: 8.0208\n",
      "Epoch 19/50\n",
      "3356/3356 [==============================] - 0s 53us/step - loss: 8.0510\n",
      "Epoch 20/50\n",
      "3356/3356 [==============================] - 0s 56us/step - loss: 7.9418\n",
      "Epoch 21/50\n",
      "3356/3356 [==============================] - 0s 57us/step - loss: 8.0226\n",
      "Epoch 22/50\n",
      "3356/3356 [==============================] - 0s 57us/step - loss: 8.0621\n",
      "Epoch 23/50\n",
      "3356/3356 [==============================] - 0s 56us/step - loss: 7.9640\n",
      "Epoch 24/50\n",
      "3356/3356 [==============================] - 0s 56us/step - loss: 7.9087\n",
      "Epoch 25/50\n",
      "3356/3356 [==============================] - 0s 60us/step - loss: 7.9991\n",
      "Epoch 26/50\n",
      "3356/3356 [==============================] - 0s 64us/step - loss: 7.8891\n",
      "Epoch 27/50\n",
      "3356/3356 [==============================] - 0s 60us/step - loss: 7.9193\n",
      "Epoch 28/50\n",
      "3356/3356 [==============================] - 0s 58us/step - loss: 7.8195\n",
      "Epoch 29/50\n",
      "3356/3356 [==============================] - 0s 57us/step - loss: 7.8709\n",
      "Epoch 30/50\n",
      "3356/3356 [==============================] - 0s 59us/step - loss: 7.8811\n",
      "Epoch 31/50\n",
      "3356/3356 [==============================] - 0s 61us/step - loss: 7.8621\n",
      "Epoch 32/50\n",
      "3356/3356 [==============================] - 0s 64us/step - loss: 7.7723\n",
      "Epoch 33/50\n",
      "3356/3356 [==============================] - 0s 55us/step - loss: 7.7562\n",
      "Epoch 34/50\n",
      "3356/3356 [==============================] - 0s 61us/step - loss: 7.8911\n",
      "Epoch 35/50\n",
      "3356/3356 [==============================] - 0s 75us/step - loss: 7.7166\n",
      "Epoch 36/50\n",
      "3356/3356 [==============================] - 0s 68us/step - loss: 7.8235\n",
      "Epoch 37/50\n",
      "3356/3356 [==============================] - 0s 63us/step - loss: 7.7376\n",
      "Epoch 38/50\n",
      "3356/3356 [==============================] - 0s 59us/step - loss: 7.8059\n",
      "Epoch 39/50\n",
      "3356/3356 [==============================] - 0s 59us/step - loss: 7.7659\n",
      "Epoch 40/50\n",
      "3356/3356 [==============================] - 0s 67us/step - loss: 7.7778\n",
      "Epoch 41/50\n",
      "3356/3356 [==============================] - 0s 61us/step - loss: 7.8819\n",
      "Epoch 42/50\n",
      "3356/3356 [==============================] - 0s 75us/step - loss: 7.7997\n",
      "Epoch 43/50\n",
      "3356/3356 [==============================] - 0s 66us/step - loss: 7.8275\n",
      "Epoch 44/50\n",
      "3356/3356 [==============================] - 0s 59us/step - loss: 7.7415\n",
      "Epoch 45/50\n",
      "3356/3356 [==============================] - 0s 60us/step - loss: 7.6997\n",
      "Epoch 46/50\n",
      "3356/3356 [==============================] - 0s 58us/step - loss: 7.6603\n",
      "Epoch 47/50\n",
      "3356/3356 [==============================] - 0s 56us/step - loss: 7.6787\n",
      "Epoch 48/50\n",
      "3356/3356 [==============================] - 0s 59us/step - loss: 7.6073\n",
      "Epoch 49/50\n",
      "3356/3356 [==============================] - 0s 68us/step - loss: 7.6926\n",
      "Epoch 50/50\n",
      "3356/3356 [==============================] - 0s 60us/step - loss: 7.5856\n",
      "Best: -7.667227 using {'dropout_rate': 0.2, 'weight_constraint': 5}\n",
      "-7.765184 (0.438064) with: {'dropout_rate': 0.0, 'weight_constraint': 1}\n",
      "-7.680581 (0.347787) with: {'dropout_rate': 0.0, 'weight_constraint': 3}\n",
      "-7.687535 (0.369863) with: {'dropout_rate': 0.0, 'weight_constraint': 5}\n",
      "-7.691773 (0.349052) with: {'dropout_rate': 0.2, 'weight_constraint': 1}\n",
      "-7.693025 (0.364618) with: {'dropout_rate': 0.2, 'weight_constraint': 3}\n",
      "-7.667227 (0.342051) with: {'dropout_rate': 0.2, 'weight_constraint': 5}\n",
      "-7.840004 (0.324054) with: {'dropout_rate': 0.4, 'weight_constraint': 1}\n",
      "-7.903156 (0.459118) with: {'dropout_rate': 0.4, 'weight_constraint': 3}\n",
      "-7.768475 (0.360080) with: {'dropout_rate': 0.4, 'weight_constraint': 5}\n",
      "-7.965698 (0.326251) with: {'dropout_rate': 0.6, 'weight_constraint': 1}\n",
      "-7.954020 (0.402318) with: {'dropout_rate': 0.6, 'weight_constraint': 3}\n",
      "-7.960029 (0.412755) with: {'dropout_rate': 0.6, 'weight_constraint': 5}\n",
      "-8.292903 (0.436858) with: {'dropout_rate': 0.8, 'weight_constraint': 1}\n",
      "-8.282564 (0.437542) with: {'dropout_rate': 0.8, 'weight_constraint': 3}\n",
      "-8.311785 (0.440664) with: {'dropout_rate': 0.8, 'weight_constraint': 5}\n",
      "-8.909653 (0.586476) with: {'dropout_rate': 0.9, 'weight_constraint': 1}\n",
      "-8.926709 (0.760882) with: {'dropout_rate': 0.9, 'weight_constraint': 3}\n",
      "-8.776543 (0.368353) with: {'dropout_rate': 0.9, 'weight_constraint': 5}\n"
     ]
    }
   ],
   "source": [
    "weight_constraint = [1, 3, 5]\n",
    "dropout_rate = [0.0, 0.2, 0.4, 0.6, 0.8, 0.9]\n",
    "param_grid = dict(dropout_rate=dropout_rate, weight_constraint=weight_constraint)\n",
    "grid = GridSearchCV(estimator=model, param_grid=param_grid, n_jobs=-1, verbose=1)\n",
    "grid_result = grid.fit(X_train_scaled, y_train)\n",
    "# summarize results\n",
    "print(\"Best: %f using %s\" % (grid_result.best_score_, grid_result.best_params_))\n",
    "means = grid_result.cv_results_['mean_test_score']\n",
    "stds = grid_result.cv_results_['std_test_score']\n",
    "params = grid_result.cv_results_['params']\n",
    "for mean, stdev, param in zip(means, stds, params):\n",
    "    print(\"%f (%f) with: %r\" % (mean, stdev, param))"
   ]
  },
  {
   "cell_type": "markdown",
   "metadata": {},
   "source": [
    "# FINAL MODEL"
   ]
  },
  {
   "cell_type": "code",
   "execution_count": 187,
   "metadata": {},
   "outputs": [],
   "source": [
    "from keras.constraints import maxnorm\n",
    "from keras.layers import Dropout\n",
    "\n",
    "def create_model(activation='relu', init_mode='lecun_uniform', dropout_rate=0.2, weight_constraint=5, optimizer='adam'):\n",
    "    # create model\n",
    "    model = Sequential()\n",
    "    model.add(Dense(64, \n",
    "                    input_dim=X_train.shape[1], \n",
    "                    kernel_initializer=init_mode, \n",
    "                    activation=activation, \n",
    "                    kernel_constraint=maxnorm(weight_constraint)))\n",
    "    model.add(Dropout(dropout_rate))\n",
    "    model.add(Dense(1, kernel_initializer=init_mode, activation='linear'))\n",
    "    # Compile model\n",
    "    model.compile(loss='mse', optimizer=optimizer)\n",
    "    return model"
   ]
  },
  {
   "cell_type": "code",
   "execution_count": 213,
   "metadata": {},
   "outputs": [],
   "source": [
    "model = KerasRegressor(build_fn=create_model, epochs=500, batch_size=64, verbose=0, shuffle=True)\n",
    "model_history=model.fit(X_train_scaled, y_train, validation_data=(X_test_scaled, y_test))"
   ]
  },
  {
   "cell_type": "code",
   "execution_count": 214,
   "metadata": {},
   "outputs": [
    {
     "data": {
      "text/plain": [
       "7.544357703112813"
      ]
     },
     "execution_count": 214,
     "metadata": {},
     "output_type": "execute_result"
    }
   ],
   "source": [
    "pred = model.predict(X_test_scaled)\n",
    "from sklearn.metrics import mean_squared_error as mse\n",
    "mse(pred, y_test)"
   ]
  },
  {
   "cell_type": "code",
   "execution_count": 215,
   "metadata": {},
   "outputs": [
    {
     "data": {
      "text/plain": [
       "dict_keys(['val_loss', 'loss'])"
      ]
     },
     "execution_count": 215,
     "metadata": {},
     "output_type": "execute_result"
    }
   ],
   "source": [
    "model_history.history.keys()"
   ]
  },
  {
   "cell_type": "code",
   "execution_count": 216,
   "metadata": {},
   "outputs": [
    {
     "data": {
      "image/png": "[encoded data removed]",
      "text/plain": [
       "<Figure size 432x288 with 1 Axes>"
      ]
     },
     "metadata": {
      "needs_background": "light"
     },
     "output_type": "display_data"
    }
   ],
   "source": [
    "import matplotlib.pyplot as plt\n",
    "%matplotlib inline\n",
    "# summarize history for loss\n",
    "plt.plot(model_history.history['loss'])\n",
    "plt.plot(model_history.history['val_loss'])\n",
    "plt.title('model loss')\n",
    "plt.ylabel('loss')\n",
    "plt.xlabel('epoch')\n",
    "plt.legend(['train', 'test'], loc='upper left')\n",
    "plt.show()"
   ]
  },
  {
   "cell_type": "code",
   "execution_count": null,
   "metadata": {},
   "outputs": [],
   "source": []
  },
  {
   "cell_type": "markdown",
   "metadata": {},
   "source": [
    "# SUBMISSION"
   ]
  },
  {
   "cell_type": "code",
   "execution_count": 217,
   "metadata": {},
   "outputs": [],
   "source": [
    "ft_test = pd.read_csv('ft_big_set_test.csv')\n",
    "ft_test = ft_test[df.columns[:-1]]"
   ]
  },
  {
   "cell_type": "code",
   "execution_count": 218,
   "metadata": {},
   "outputs": [],
   "source": [
    "X_sub = scaler.transform(ft_test)"
   ]
  },
  {
   "cell_type": "code",
   "execution_count": 219,
   "metadata": {},
   "outputs": [
    {
     "data": {
      "text/plain": [
       "array([3.8859687, 5.9117546, 6.34465  , ..., 2.9169452, 2.8073382,\n",
       "       8.417611 ], dtype=float32)"
      ]
     },
     "execution_count": 219,
     "metadata": {},
     "output_type": "execute_result"
    }
   ],
   "source": [
    "sub_pred = model.predict(X_sub)\n",
    "sub_pred"
   ]
  },
  {
   "cell_type": "code",
   "execution_count": 212,
   "metadata": {},
   "outputs": [],
   "source": [
    "sub = pd.read_csv('sample_submission.csv')\n",
    "sub.time_to_failure = sub_pred\n",
    "sub.to_csv('NN_opt_big_ft_set.csv', index=False)"
   ]
  },
  {
   "cell_type": "code",
   "execution_count": null,
   "metadata": {},
   "outputs": [],
   "source": []
  }
 ],
 "metadata": {
  "kernelspec": {
   "display_name": "Python 3",
   "language": "python",
   "name": "python3"
  },
  "language_info": {
   "codemirror_mode": {
    "name": "ipython",
    "version": 3
   },
   "file_extension": ".py",
   "mimetype": "text/x-python",
   "name": "python",
   "nbconvert_exporter": "python",
   "pygments_lexer": "ipython3",
   "version": "3.6.8"
  }
 },
 "nbformat": 4,
 "nbformat_minor": 2
}

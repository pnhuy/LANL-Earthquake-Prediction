{
 "cells": [
  {
   "cell_type": "code",
   "execution_count": 15,
   "metadata": {},
   "outputs": [],
   "source": [
    "import numpy as np\n",
    "import pandas as pd\n",
    "import matplotlib.pyplot as plt\n",
    "import seaborn as sns\n",
    "import os\n",
    "import csv\n",
    "from tsfresh import extract_features\n",
    "%matplotlib inline\n",
    "\n",
    "WINDOW = 150000\n",
    "TRAIN = '../sample/sample_15m/train_sample_15m.csv'\n",
    "TRAIN_FT = '../sample/sample_15m/train_ft_15m.csv'\n",
    "TEST = '../sample/sample_15m/test_sample_15m.csv'\n",
    "TEST_FT = '../sample/sample_15m/test_ft_15m.csv'"
   ]
  },
  {
   "cell_type": "code",
   "execution_count": 16,
   "metadata": {},
   "outputs": [],
   "source": [
    "def feature_extract(dt):\n",
    "    \n",
    "    import tsfresh.feature_extraction.feature_calculators as fc\n",
    "    \n",
    "    return {\n",
    "        'abs_energy': fc.abs_energy(dt),\n",
    "        'sum_values': fc.sum_values(dt),\n",
    "        'mean': fc.mean(dt),\n",
    "        'maximum': fc.maximum(dt),\n",
    "        'minimum': fc.minimum(dt),\n",
    "        'median': fc.median(dt),\n",
    "        'quantile_0.1': fc.quantile(dt, 0.1),\n",
    "        'quantile_0.2': fc.quantile(dt, 0.2),\n",
    "        'quantile_0.3': fc.quantile(dt, 0.3),\n",
    "        'quantile_0.4': fc.quantile(dt, 0.4),\n",
    "        'quantile_0.5': fc.quantile(dt, 0.5),\n",
    "        'quantile_0.6': fc.quantile(dt, 0.6),\n",
    "        'quantile_0.7': fc.quantile(dt, 0.7),\n",
    "        'quantile_0.8': fc.quantile(dt, 0.8),\n",
    "        'quantile_0.9': fc.quantile(dt, 0.9),\n",
    "        #\n",
    "        # TODO:\n",
    "        # Below functions dont works well -> need to be checked!!\n",
    "        #\n",
    "        #'fft_coefficient__coeff_0__attr_real': fc.fft_coefficient(dt {\"coeff\": 0, \"attr\": \"real\"}),\n",
    "        #'fft_coefficient__coeff_0__attr_imag': fc.fft_coefficient(dt {\"coeff\": 0, \"attr\": \"imag\"}),\n",
    "        #'fft_coefficient__coeff_0__attr_abs': fc.fft_coefficient(dt {\"coeff\": 0, \"attr\": \"abs\"}),\n",
    "        #'fft_coefficient__coeff_0__attr_angle': fc.fft_coefficient(dt {\"coeff\": 0, \"attr\": \"angle\"}),\n",
    "    }"
   ]
  },
  {
   "cell_type": "code",
   "execution_count": 18,
   "metadata": {},
   "outputs": [],
   "source": [
    "for chunk in pd.read_csv(TRAIN, chunksize=WINDOW, dtype={'acoustic_data': np.int8, 'time_to_failure': np.float32 }):\n",
    "    ef = feature_extract(chunk.acoustic_data)\n",
    "    file_exist = os.path.exists(TRAIN_FT)\n",
    "    with open(TRAIN_FT, 'a') as csvfile:\n",
    "        writer = csv.writer(csvfile)\n",
    "        if not file_exist:\n",
    "            writer.writerow(['time_to_failure'] + list(ef.keys()))\n",
    "        writer.writerow([chunk.time_to_failure.iloc[-1]] + list(ef.values()))\n",
    "    "
   ]
  },
  {
   "cell_type": "code",
   "execution_count": 21,
   "metadata": {},
   "outputs": [],
   "source": [
    "for chunk in pd.read_csv(TEST, chunksize=WINDOW, dtype={'acoustic_data': np.int8, 'time_to_failure': np.float32 }):\n",
    "    ef = feature_extract(chunk.acoustic_data)\n",
    "    file_exist = os.path.exists(TEST_FT)\n",
    "    with open(TEST_FT, 'a') as csvfile:\n",
    "        writer = csv.writer(csvfile)\n",
    "        if not file_exist:\n",
    "            writer.writerow(['time_to_failure'] + list(ef.keys()))\n",
    "        writer.writerow([chunk.time_to_failure.iloc[-1]] + list(ef.values()))"
   ]
  }
 ],
 "metadata": {
  "kernelspec": {
   "display_name": "Python 3",
   "language": "python",
   "name": "python3"
  },
  "language_info": {
   "codemirror_mode": {
    "name": "ipython",
    "version": 3
   },
   "file_extension": ".py",
   "mimetype": "text/x-python",
   "name": "python",
   "nbconvert_exporter": "python",
   "pygments_lexer": "ipython3",
   "version": "3.6.8"
  }
 },
 "nbformat": 4,
 "nbformat_minor": 2
}

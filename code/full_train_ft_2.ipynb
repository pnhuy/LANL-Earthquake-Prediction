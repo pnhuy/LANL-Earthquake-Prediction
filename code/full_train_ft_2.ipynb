{
 "cells": [
  {
   "cell_type": "code",
   "execution_count": 1,
   "metadata": {},
   "outputs": [],
   "source": [
    "import numpy as np\n",
    "import pandas as pd\n",
    "from tsfresh import extract_features\n",
    "%matplotlib inline\n",
    "\n",
    "from IPython.display import clear_output\n",
    "WINDOW = 150000\n",
    "TRAIN = '../eq/train.csv'\n",
    "TRAIN_FT = 'train_ft_big_ft_set.csv'\n",
    "COUNT = 629145481"
   ]
  },
  {
   "cell_type": "code",
   "execution_count": 2,
   "metadata": {},
   "outputs": [],
   "source": [
    "param= {\n",
    "'variance_larger_than_standard_deviation': None,\n",
    " 'has_duplicate_max': None,\n",
    " 'has_duplicate_min': None,\n",
    " 'has_duplicate': None,\n",
    " 'sum_values': None,\n",
    " 'abs_energy': None,\n",
    " 'mean_abs_change': None,\n",
    " 'mean_change': None,\n",
    " 'mean_second_derivative_central': None,\n",
    " 'median': None,\n",
    " 'mean': None,\n",
    " 'length': None,\n",
    " 'standard_deviation': None,\n",
    " 'variance': None,\n",
    " 'skewness': None,\n",
    " 'kurtosis': None,\n",
    " 'absolute_sum_of_changes': None,\n",
    " 'longest_strike_below_mean': None,\n",
    " 'longest_strike_above_mean': None,\n",
    " 'count_above_mean': None,\n",
    " 'count_below_mean': None,\n",
    " 'last_location_of_maximum': None,\n",
    " 'first_location_of_maximum': None,\n",
    " 'last_location_of_minimum': None,\n",
    " 'first_location_of_minimum': None,\n",
    " 'percentage_of_reoccurring_datapoints_to_all_datapoints': None,\n",
    " 'percentage_of_reoccurring_values_to_all_values': None,\n",
    " 'sum_of_reoccurring_values': None,\n",
    " 'sum_of_reoccurring_data_points': None,\n",
    " 'ratio_value_number_to_time_series_length': None,\n",
    " 'maximum': None,\n",
    " 'minimum': None,\n",
    " 'time_reversal_asymmetry_statistic': [{'lag': 1}, {'lag': 2}, {'lag': 3}],\n",
    " 'c3': [{'lag': 1}, {'lag': 2}, {'lag': 3}],\n",
    " 'cid_ce': [{'normalize': True}, {'normalize': False}],\n",
    "    'symmetry_looking': [{'r': 0.0},\n",
    "  {'r': 0.05},\n",
    "  {'r': 0.1},\n",
    "  {'r': 0.15000000000000002},\n",
    "  {'r': 0.2},\n",
    "  {'r': 0.25},\n",
    "  {'r': 0.30000000000000004},\n",
    "  {'r': 0.35000000000000003},\n",
    "  {'r': 0.4},\n",
    "  {'r': 0.45},\n",
    "  {'r': 0.5},\n",
    "  {'r': 0.55},\n",
    "  {'r': 0.6000000000000001},\n",
    "  {'r': 0.65},\n",
    "  {'r': 0.7000000000000001},\n",
    "  {'r': 0.75},\n",
    "  {'r': 0.8},\n",
    "  {'r': 0.8500000000000001},\n",
    "  {'r': 0.9},\n",
    "  {'r': 0.9500000000000001}],\n",
    " 'large_standard_deviation': [{'r': 0.05},\n",
    "  {'r': 0.1},\n",
    "  {'r': 0.15000000000000002},\n",
    "  {'r': 0.2},\n",
    "  {'r': 0.25},\n",
    "  {'r': 0.30000000000000004},\n",
    "  {'r': 0.35000000000000003},\n",
    "  {'r': 0.4},\n",
    "  {'r': 0.45},\n",
    "  {'r': 0.5},\n",
    "  {'r': 0.55},\n",
    "  {'r': 0.6000000000000001},\n",
    "  {'r': 0.65},\n",
    "  {'r': 0.7000000000000001},\n",
    "  {'r': 0.75},\n",
    "  {'r': 0.8},\n",
    "  {'r': 0.8500000000000001},\n",
    "  {'r': 0.9},\n",
    "  {'r': 0.9500000000000001}],\n",
    " 'quantile': [{'q': 0.1},\n",
    "  {'q': 0.2},\n",
    "  {'q': 0.3},\n",
    "  {'q': 0.4},\n",
    "  {'q': 0.6},\n",
    "  {'q': 0.7},\n",
    "  {'q': 0.8},\n",
    "  {'q': 0.9}],\n",
    "    'autocorrelation': [{'lag': 0},\n",
    "  {'lag': 1},\n",
    "  {'lag': 2},\n",
    "  {'lag': 3},\n",
    "  {'lag': 4},\n",
    "  {'lag': 5},\n",
    "  {'lag': 6},\n",
    "  {'lag': 7},\n",
    "  {'lag': 8},\n",
    "  {'lag': 9}],\n",
    "    'agg_autocorrelation': [{'f_agg': 'mean'},\n",
    "  {'f_agg': 'median'},\n",
    "  {'f_agg': 'var'}],\n",
    "    'partial_autocorrelation': [{'lag': 0},\n",
    "  {'lag': 1},\n",
    "  {'lag': 2},\n",
    "  {'lag': 3},\n",
    "  {'lag': 4},\n",
    "  {'lag': 5},\n",
    "  {'lag': 6},\n",
    "  {'lag': 7},\n",
    "  {'lag': 8},\n",
    "  {'lag': 9}],\n",
    "    #'number_cwt_peaks': [{'n': 1}, {'n': 5}],\n",
    " #'number_peaks': [{'n': 1}, {'n': 3}, {'n': 5}, {'n': 10}, {'n': 50}],\n",
    "    #'binned_entropy': [{'max_bins': 10}],\n",
    "    'cwt_coefficients': [{'widths': (2, 5, 10, 20), 'coeff': 0, 'w': 2},\n",
    "  {'widths': (2, 5, 10, 20), 'coeff': 0, 'w': 5},\n",
    "  {'widths': (2, 5, 10, 20), 'coeff': 0, 'w': 10},\n",
    "  {'widths': (2, 5, 10, 20), 'coeff': 0, 'w': 20},\n",
    "  {'widths': (2, 5, 10, 20), 'coeff': 1, 'w': 2},\n",
    "  {'widths': (2, 5, 10, 20), 'coeff': 1, 'w': 5},\n",
    "  {'widths': (2, 5, 10, 20), 'coeff': 1, 'w': 10},\n",
    "  {'widths': (2, 5, 10, 20), 'coeff': 1, 'w': 20},\n",
    "  {'widths': (2, 5, 10, 20), 'coeff': 2, 'w': 2},\n",
    "  {'widths': (2, 5, 10, 20), 'coeff': 2, 'w': 5},\n",
    "  {'widths': (2, 5, 10, 20), 'coeff': 2, 'w': 10},\n",
    "  {'widths': (2, 5, 10, 20), 'coeff': 2, 'w': 20},\n",
    "  {'widths': (2, 5, 10, 20), 'coeff': 3, 'w': 2},\n",
    "  {'widths': (2, 5, 10, 20), 'coeff': 3, 'w': 5},\n",
    "  {'widths': (2, 5, 10, 20), 'coeff': 3, 'w': 10},\n",
    "  {'widths': (2, 5, 10, 20), 'coeff': 3, 'w': 20},\n",
    "  {'widths': (2, 5, 10, 20), 'coeff': 4, 'w': 2},\n",
    "  {'widths': (2, 5, 10, 20), 'coeff': 4, 'w': 5},\n",
    "  {'widths': (2, 5, 10, 20), 'coeff': 4, 'w': 10},\n",
    "  {'widths': (2, 5, 10, 20), 'coeff': 4, 'w': 20},\n",
    "  {'widths': (2, 5, 10, 20), 'coeff': 5, 'w': 2},\n",
    "  {'widths': (2, 5, 10, 20), 'coeff': 5, 'w': 5},\n",
    "  {'widths': (2, 5, 10, 20), 'coeff': 5, 'w': 10},\n",
    "  {'widths': (2, 5, 10, 20), 'coeff': 5, 'w': 20},\n",
    "  {'widths': (2, 5, 10, 20), 'coeff': 6, 'w': 2},\n",
    "  {'widths': (2, 5, 10, 20), 'coeff': 6, 'w': 5},\n",
    "  {'widths': (2, 5, 10, 20), 'coeff': 6, 'w': 10},\n",
    "  {'widths': (2, 5, 10, 20), 'coeff': 6, 'w': 20},\n",
    "  {'widths': (2, 5, 10, 20), 'coeff': 7, 'w': 2},\n",
    "  {'widths': (2, 5, 10, 20), 'coeff': 7, 'w': 5},\n",
    "  {'widths': (2, 5, 10, 20), 'coeff': 7, 'w': 10},\n",
    "  {'widths': (2, 5, 10, 20), 'coeff': 7, 'w': 20},\n",
    "  {'widths': (2, 5, 10, 20), 'coeff': 8, 'w': 2},\n",
    "  {'widths': (2, 5, 10, 20), 'coeff': 8, 'w': 5},\n",
    "  {'widths': (2, 5, 10, 20), 'coeff': 8, 'w': 10},\n",
    "  {'widths': (2, 5, 10, 20), 'coeff': 8, 'w': 20},\n",
    "  {'widths': (2, 5, 10, 20), 'coeff': 9, 'w': 2},\n",
    "  {'widths': (2, 5, 10, 20), 'coeff': 9, 'w': 5},\n",
    "  {'widths': (2, 5, 10, 20), 'coeff': 9, 'w': 10},\n",
    "  {'widths': (2, 5, 10, 20), 'coeff': 9, 'w': 20},\n",
    "  {'widths': (2, 5, 10, 20), 'coeff': 10, 'w': 2},\n",
    "  {'widths': (2, 5, 10, 20), 'coeff': 10, 'w': 5},\n",
    "  {'widths': (2, 5, 10, 20), 'coeff': 10, 'w': 10},\n",
    "  {'widths': (2, 5, 10, 20), 'coeff': 10, 'w': 20},\n",
    "  {'widths': (2, 5, 10, 20), 'coeff': 11, 'w': 2},\n",
    "  {'widths': (2, 5, 10, 20), 'coeff': 11, 'w': 5},\n",
    "  {'widths': (2, 5, 10, 20), 'coeff': 11, 'w': 10},\n",
    "  {'widths': (2, 5, 10, 20), 'coeff': 11, 'w': 20},\n",
    "  {'widths': (2, 5, 10, 20), 'coeff': 12, 'w': 2},\n",
    "  {'widths': (2, 5, 10, 20), 'coeff': 12, 'w': 5},\n",
    "  {'widths': (2, 5, 10, 20), 'coeff': 12, 'w': 10},\n",
    "  {'widths': (2, 5, 10, 20), 'coeff': 12, 'w': 20},\n",
    "  {'widths': (2, 5, 10, 20), 'coeff': 13, 'w': 2},\n",
    "  {'widths': (2, 5, 10, 20), 'coeff': 13, 'w': 5},\n",
    "  {'widths': (2, 5, 10, 20), 'coeff': 13, 'w': 10},\n",
    "  {'widths': (2, 5, 10, 20), 'coeff': 13, 'w': 20},\n",
    "  {'widths': (2, 5, 10, 20), 'coeff': 14, 'w': 2},\n",
    "  {'widths': (2, 5, 10, 20), 'coeff': 14, 'w': 5},\n",
    "  {'widths': (2, 5, 10, 20), 'coeff': 14, 'w': 10},\n",
    "  {'widths': (2, 5, 10, 20), 'coeff': 14, 'w': 20}],\n",
    "    'spkt_welch_density': [{'coeff': 2}, {'coeff': 5}, {'coeff': 8}],\n",
    "     'ar_coefficient': [{'coeff': 0, 'k': 10},\n",
    "  {'coeff': 1, 'k': 10},\n",
    "  {'coeff': 2, 'k': 10},\n",
    "  {'coeff': 3, 'k': 10},\n",
    "  {'coeff': 4, 'k': 10}],\n",
    "'fft_aggregated': [{'aggtype': 'centroid'},\n",
    "  {'aggtype': 'variance'},\n",
    "  {'aggtype': 'skew'},\n",
    "  {'aggtype': 'kurtosis'}],\n",
    "    'range_count': [{'min': -1, 'max': 1}],\n",
    " 'friedrich_coefficients': [{'coeff': 0, 'm': 3, 'r': 30},\n",
    "  {'coeff': 1, 'm': 3, 'r': 30},\n",
    "  {'coeff': 2, 'm': 3, 'r': 30},\n",
    "  {'coeff': 3, 'm': 3, 'r': 30}],\n",
    "    'max_langevin_fixed_point': [{'m': 3, 'r': 30}],\n",
    " 'linear_trend': [{'attr': 'pvalue'},\n",
    "  {'attr': 'rvalue'},\n",
    "  {'attr': 'intercept'},\n",
    "  {'attr': 'slope'},\n",
    "  {'attr': 'stderr'}],\n",
    "     \n",
    " 'number_crossing_m': [{'m': 25}, {'m': 50}, {'m': 75}, {'m':100}],\n",
    "\n",
    "    \n",
    "     'energy_ratio_by_chunks': [{'num_segments': 10, 'segment_focus': 0},\n",
    "  {'num_segments': 10, 'segment_focus': 1},\n",
    "  {'num_segments': 10, 'segment_focus': 2},\n",
    "  {'num_segments': 10, 'segment_focus': 3},\n",
    "  {'num_segments': 10, 'segment_focus': 4},\n",
    "  {'num_segments': 10, 'segment_focus': 5},\n",
    "  {'num_segments': 10, 'segment_focus': 6},\n",
    "  {'num_segments': 10, 'segment_focus': 7},\n",
    "  {'num_segments': 10, 'segment_focus': 8},\n",
    "  {'num_segments': 10, 'segment_focus': 9}],\n",
    "    \n",
    "     'ratio_beyond_r_sigma': [{'r': 0.5},\n",
    "  {'r': 1},\n",
    "  {'r': 1.5},\n",
    "  {'r': 2},\n",
    "  {'r': 2.5},\n",
    "  {'r': 3},\n",
    "  {'r': 5},\n",
    "  {'r': 6},\n",
    "  {'r': 7},\n",
    "  {'r': 10}]\n",
    "\n",
    "    \n",
    "\n",
    "}"
   ]
  },
  {
   "cell_type": "code",
   "execution_count": 3,
   "metadata": {},
   "outputs": [
    {
     "name": "stdout",
     "output_type": "stream",
     "text": [
      "99.92124540110939\n"
     ]
    },
    {
     "name": "stderr",
     "output_type": "stream",
     "text": [
      "Feature Extraction: 100%|██████████| 1/1 [00:07<00:00,  7.37s/it]"
     ]
    },
    {
     "name": "stdout",
     "output_type": "stream",
     "text": [
      "99.94508726352912\n"
     ]
    },
    {
     "name": "stderr",
     "output_type": "stream",
     "text": [
      "\n",
      "Feature Extraction: 100%|██████████| 1/1 [00:08<00:00,  8.18s/it]"
     ]
    },
    {
     "name": "stdout",
     "output_type": "stream",
     "text": [
      "99.96892912594885\n"
     ]
    },
    {
     "name": "stderr",
     "output_type": "stream",
     "text": [
      "\n",
      "Feature Extraction: 100%|██████████| 1/1 [00:07<00:00,  7.49s/it]\n"
     ]
    },
    {
     "name": "stdout",
     "output_type": "stream",
     "text": [
      "99.99277098836859\n"
     ]
    },
    {
     "name": "stderr",
     "output_type": "stream",
     "text": [
      "Feature Extraction: 100%|██████████| 1/1 [00:07<00:00,  7.63s/it]"
     ]
    },
    {
     "name": "stdout",
     "output_type": "stream",
     "text": [
      "100.0166128507883\n"
     ]
    },
    {
     "name": "stderr",
     "output_type": "stream",
     "text": [
      "\n",
      "Feature Extraction: 100%|██████████| 1/1 [00:01<00:00,  1.08s/it]\n"
     ]
    }
   ],
   "source": [
    "i=0\n",
    "ft = pd.DataFrame()\n",
    "tg = []\n",
    "for chunk in pd.read_csv(TRAIN, chunksize=WINDOW):\n",
    "    i += 1\n",
    "    print(i*WINDOW/COUNT*100)\n",
    "    chunk['id'] = i\n",
    "    feat = extract_features(chunk.drop(columns=['time_to_failure']), column_id = 'id',default_fc_parameters=param)\n",
    "    ft = pd.concat([ft, feat])\n",
    "    tg.append(chunk.time_to_failure.iloc[-1])\n",
    "    if (i%10 == 0): clear_output()\n",
    "        \n",
    "ft['time_to_failure'] = tg"
   ]
  },
  {
   "cell_type": "code",
   "execution_count": 7,
   "metadata": {},
   "outputs": [
    {
     "data": {
      "text/plain": [
       "(4195, 218)"
      ]
     },
     "execution_count": 7,
     "metadata": {},
     "output_type": "execute_result"
    }
   ],
   "source": [
    "ft.shape"
   ]
  },
  {
   "cell_type": "code",
   "execution_count": 5,
   "metadata": {},
   "outputs": [],
   "source": [
    "ft.to_csv('full_train_ft_2.csv', index=False)"
   ]
  },
  {
   "cell_type": "code",
   "execution_count": null,
   "metadata": {},
   "outputs": [],
   "source": []
  }
 ],
 "metadata": {
  "kernelspec": {
   "display_name": "Python 3",
   "language": "python",
   "name": "python3"
  },
  "language_info": {
   "codemirror_mode": {
    "name": "ipython",
    "version": 3
   },
   "file_extension": ".py",
   "mimetype": "text/x-python",
   "name": "python",
   "nbconvert_exporter": "python",
   "pygments_lexer": "ipython3",
   "version": "3.6.8"
  }
 },
 "nbformat": 4,
 "nbformat_minor": 2
}
